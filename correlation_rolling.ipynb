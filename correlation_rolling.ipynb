{
 "metadata": {
  "celltoolbar": "Edit Metadata",
  "name": "",
  "signature": "sha256:c306a9abd9d2c2ddaf36ee9d37500071c47fb693964d8e81eb3f1899c3ee3f33"
 },
 "nbformat": 3,
 "nbformat_minor": 0,
 "worksheets": [
  {
   "cells": [
    {
     "cell_type": "heading",
     "level": 1,
     "metadata": {},
     "source": [
      "Correlation Rolling using Pandas Module"
     ]
    },
    {
     "cell_type": "markdown",
     "metadata": {},
     "source": [
      " # **Version 1.0: ** \n",
      " + Author: jm.sanchez.jimenez@bbva.com\n",
      " + Created on: Tue Feb 24 17:14:29 2015\n",
      " + URL with examples: http://code.google.com/p/pandas/source/browse/trunk/pandas/stats/moments.py?r=185\n",
      " + Example of MarkDown: http://markdown.pioul.fr/\n",
      " \n",
      "In this Version:\n",
      " + Frequency: Daily\n",
      " + Returns: logaritmics\n",
      " + Fill the Gaps: copy previous data\n",
      " + Not delete Holidays Days\n",
      " + Calculate rolling Correlation\n",
      " \n",
      "Formula:\n",
      "\n",
      "$$ \\rho  = cov(return_x,return_y)/ \\sigma_{return_x} \\sigma_{return_y}   $$\n",
      "\n",
      "where \n",
      "\n",
      "$$ return_x = log(x_i/x_{i-1}) $$"
     ]
    },
    {
     "cell_type": "markdown",
     "metadata": {},
     "source": [
      "## **List of Sprints To DO's: ** \n",
      "\n",
      "+ Delete Holidays Days (targets)  \n",
      "+ Add Unit Tests\n",
      "+ Not only two assets: a generic function (group_by)\n",
      "+ Change the frequency: Daily, Week ...\n",
      "+ Fill the gaps: delete dates, copy previous data ..\n",
      "+ Plot a coorPlot\n",
      "+ Weigthed Correlation\n",
      "+ Possibility of Change the Form or returns: $$ (x_i/x_{i-1})-1 $$\n"
     ]
    },
    {
     "cell_type": "code",
     "collapsed": false,
     "input": [
      "import pandas as pd\n",
      "import numpy as np\n",
      "\n",
      "def corr_rolling(df_x, df_y, number_days = 150, column_name_data = 'Quote', column_name_dates = 'Val_Date'):\n",
      "    \n",
      "    \"\"\"\n",
      "    Calculating Linear Correlation\n",
      "\n",
      "    Args:\n",
      "    ----------\n",
      "\n",
      "    df_x :  DataFrame First Series \n",
      "    df_y :  DataFrame Second Series\n",
      "    number_days :  number of days of the historical series. By Default 150\n",
      "    column_name_data = name of the column with the data. By Default = 'Quote'\n",
      "    column_name_dates = name of the column with the dates. By Default = 'Val_Date'\n",
      "    \n",
      "    \"\"\"\n",
      "    #Array with the Quotes \n",
      "    series_quotes_x = np.array(df_x[column_name_data])\n",
      "    series_quotes_y = np.array(df_y[column_name_data])\n",
      "    \n",
      "    #Array with the Returns (logaritm)\n",
      "    series_return_quotes_x =np.log(series_quotes_x[:-1]/series_quotes_x[1:])\n",
      "    series_return_quotes_y =np.log(series_quotes_y[:-1]/series_quotes_y[1:])\n",
      "    \n",
      "    #Array with the Dates\n",
      "    series_fechas_x = df_x[column_name_dates]    \n",
      "    series_fechas_y = df_y[column_name_dates]\n",
      "        \n",
      "    \n",
      "    #Build Series Objetc to work with Time Series\n",
      "    ts_x = pd.Series(series_return_quotes_x, index = series_fechas_x[:-1])\n",
      "    ts_y = pd.Series(series_return_quotes_y, index = series_fechas_y[:-1])\n",
      "    \n",
      "    \n",
      "    #Fill the gaps ==> Not data copy the previous (Add a Zero because is the Log Returns Series \n",
      "    ts_x_fill = ts_x.resample('B', fill_method = 'ffill', how = 0.)\n",
      "    ts_y_fill = ts_y.resample('B', fill_method = 'ffill', how = 0.)\n",
      "    \n",
      "    #We can work with the pct_change that is compouned return (xi/xi-1)-1\n",
      "    #returns_x = ts_x_fill.pct_change()\n",
      "    \n",
      "    #Calculate the correlation for all the Dates - rolling correlation\n",
      "    corr_x_y = pd.rolling_corr(ts_x_fill, ts_y_fill,number_days)\n",
      "    #Prrint the graph; correlation value vs. date\n",
      "    corr_x_y.plot()\n",
      "    #Print the last 5 values\n",
      "    print 'Correlation Value: '     \n",
      "    print corr_x_y[-5:]\n",
      "\n",
      "    "
     ],
     "language": "python",
     "metadata": {},
     "outputs": [],
     "prompt_number": 2
    },
    {
     "cell_type": "code",
     "collapsed": false,
     "input": [],
     "language": "python",
     "metadata": {},
     "outputs": []
    }
   ],
   "metadata": {}
  }
 ]
}