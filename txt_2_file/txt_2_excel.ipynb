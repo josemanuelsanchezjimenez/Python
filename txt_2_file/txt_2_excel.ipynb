{
 "cells": [
  {
   "cell_type": "markdown",
   "metadata": {},
   "source": [
    "# TXT file to Excel using Pandas"
   ]
  },
  {
   "cell_type": "markdown",
   "metadata": {},
   "source": [
    " # **Version 1.0.0: ** \n",
    " + Author: jm.sanchez.jimenez@bbva.com\n",
    " + Created on: Tue Feb 24 17:14:29 2016\n",
    " + URL with examples: http://pandas.pydata.org/pandas-docs/stable/generated/pandas.DataFrame.to_excel.html\n",
    " + Example of MarkDown: http://markdown.pioul.fr/\n",
    " \n",
    "In this Version:\n",
    " + TXT with a Size Columns Width File\n",
    " + Delete Last Row (Special Character) \n",
    " + Without Header\n",
    " + A loop for a column to generate multiple Excel Files\n",
    " + File in the same folder that this Notebook\n",
    " + Format of this file:\n",
    " \n",
    "     + first_column: 4 chars (positions: 0-4)\n",
    "     + second_column: 4 chars (positions: 5-8)\n",
    "     + third_column: 10 chars - (positions: 9-18) - Number Field - last 2 chars are decimals\n",
    "     + fourth: 8 chars - (positions: 19-26)\n",
    "     + fith: 10 chars - (positions: 27-36)\n",
    "     + sixth: 1 chars - (positions: 36-37)\n",
    "     + seventh: 1 chars - (positions: 37-38)\n",
    "     \n",
    "     Example of a row: AAAABBBB0000359263DDDDDDDDEEEEEEEEE FG \n",
    " \n"
   ]
  },
  {
   "cell_type": "markdown",
   "metadata": {},
   "source": [
    "## **List of Sprints To DO's: ** \n",
    "\n",
    "+ Configure the size of the columns\n",
    "+ Configure Delete Last Row\n",
    "+ Configure Header Row: yes/no\n",
    "+ Configure to export to a muliple excel file or to an only excel with multiple sheets\n",
    "+ Configure The Numbers of Decimals \n",
    "+ Check the length of the Strings \n"
   ]
  },
  {
   "cell_type": "code",
   "execution_count": 86,
   "metadata": {
    "collapsed": false
   },
   "outputs": [],
   "source": [
    "import pandas as pd\n",
    "import numpy as np\n",
    "\n",
    "\"\"\"\n",
    "    Get a SubString from a String\n",
    "    \n",
    "    Args:\n",
    "    ----------\n",
    "\n",
    "    initial_text: initial string\n",
    "    initial_character: initial character included \n",
    "    final_character: final charcater not included\n",
    "   \n",
    "\"\"\"\n",
    "\n",
    "def get_substring(initial_text, initial_character, final_character):\n",
    "    \n",
    "    return initial_text[initial_character:final_character]\n",
    "\n",
    "\"\"\"\n",
    "    Get a Float Number from a String\n",
    "    The string is a number when the last 2 chars are decimals\n",
    "    so we divide by 100\n",
    "    \n",
    "    Args:\n",
    "    ----------\n",
    "\n",
    "    initial_text: initial string\n",
    "\n",
    "\"\"\"\n",
    "def get_float(initial_text):\n",
    "    \n",
    "    return float(initial_text)/100.0\n",
    "\n",
    "\n",
    "def txt_2_excel_file(text_file):\n",
    "\n",
    "    #Only a column because the columns are of Width Sized\n",
    "    #Assign a column name becasue the file hasnt a header\n",
    "    text_file.columns = ['column_name']\n",
    "\n",
    "    #Print the number of rows\n",
    "    rows_number = text_file.shape[0]\n",
    "    print \"Number of Rows: \" + str(rows_number)\n",
    "\n",
    "    #Delete Last Row\n",
    "    text_file = text_file[0:rows_number-1]\n",
    "\n",
    "    #Get All the Values of the Column that you want to create Multiples Excel Files\n",
    "    all_values = text_file['column_name'].apply(get_substring, args=(0,4))\n",
    "\n",
    "    #Get the distinct Values of the Column that you want to create Multiples Excel Files\n",
    "    unique_values = all_values.unique()\n",
    "\n",
    "    #Loop Unique Values to create Excel Files\n",
    "    for i in unique_values:\n",
    "\n",
    "        current_value = i\n",
    "        df = text_file[text_file['column_name'].apply(get_substring, args=(0,4))==current_value]\n",
    "\n",
    "        #Print the current value & the Number of Rows \n",
    "        print \"Current Value: \" + str(current_value)\n",
    "        print \"Size Current Value: \" + str(df.shape)\n",
    "\n",
    "        #FIRST_COLUMN\n",
    "        first_column = df['column_name'].apply(get_substring, args=(0,4))\n",
    "\n",
    "        #SECOND_COLUMN\n",
    "        second_column = df['column_name'].apply(get_substring,args=(4,8))\n",
    "\n",
    "        #THIRD_COLUMN\n",
    "        #IN this case is a NUmber (decimal) Field\n",
    "        third_column = df['column_name'].apply(get_substring,args=(8,18))\n",
    "        third_column = third_column.apply(get_float)\n",
    "\n",
    "        #FOURTH_COLUMN\n",
    "        fourth_column = df['column_name'].apply(get_substring,args=(18,26))\n",
    "\n",
    "        #FITH_COLUMN\n",
    "        fith_column = df['column_name'].apply(get_substring,args=(26,36))\n",
    "\n",
    "        #SIXTH_COLUMN\n",
    "        sixth_column = df['column_name'].apply(get_substring,args=(36,37))\n",
    "\n",
    "        #SEVENTH_COLUMN\n",
    "        seventh_column = df['column_name'].apply(get_substring,args=(37,38))\n",
    "\n",
    "        #Excel file depends on the Name Column you want to create Multiple Files \n",
    "        file_name_excel = current_value + '.xlsx'\n",
    "\n",
    "        #Create a Pandas DataFrame to export to Excel\n",
    "        df_export = pd.concat([first_column, second_column,third_column, fourth_column,fith_column,sixth_column, seventh_column], axis=1)\n",
    "\n",
    "        df_export.columns = ['first_column','second_column','third_column','fourth_column','fith_column','sixth_column','seventh_column']\n",
    "        pd.DataFrame(df_export).to_excel(file_name_excel, current_value)\n",
    "\n",
    "\n",
    "\n"
   ]
  },
  {
   "cell_type": "code",
   "execution_count": 87,
   "metadata": {
    "collapsed": false
   },
   "outputs": [
    {
     "name": "stdout",
     "output_type": "stream",
     "text": [
      "Number of Rows: 7\n",
      "Current Value: 6732\n",
      "Size Current Value: (2, 1)\n",
      "Current Value: 6731\n",
      "Size Current Value: (2, 1)\n",
      "Current Value: 6733\n",
      "Size Current Value: (2, 1)\n"
     ]
    }
   ],
   "source": [
    "#Read TXT File\n",
    "text_file = pd.read_csv(\"input_txt.txt\", header = -1)\n",
    "txt_2_excel_file(text_file)"
   ]
  },
  {
   "cell_type": "code",
   "execution_count": null,
   "metadata": {
    "collapsed": true
   },
   "outputs": [],
   "source": []
  },
  {
   "cell_type": "code",
   "execution_count": null,
   "metadata": {
    "collapsed": true
   },
   "outputs": [],
   "source": []
  },
  {
   "cell_type": "code",
   "execution_count": null,
   "metadata": {
    "collapsed": true
   },
   "outputs": [],
   "source": []
  }
 ],
 "metadata": {
  "celltoolbar": "Edit Metadata",
  "kernelspec": {
   "display_name": "Python 2",
   "language": "python",
   "name": "python2"
  },
  "language_info": {
   "codemirror_mode": {
    "name": "ipython",
    "version": 2
   },
   "file_extension": ".py",
   "mimetype": "text/x-python",
   "name": "python",
   "nbconvert_exporter": "python",
   "pygments_lexer": "ipython2",
   "version": "2.7.10"
  }
 },
 "nbformat": 4,
 "nbformat_minor": 0
}
